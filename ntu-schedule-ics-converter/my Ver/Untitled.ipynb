{
 "cells": [
  {
   "cell_type": "code",
   "execution_count": 1,
   "id": "02ac8a7d-f26d-414a-b22a-9a1fde337e06",
   "metadata": {},
   "outputs": [],
   "source": [
    "class moduleType:\n",
    "\n",
    "\tdef __init__(self):\n",
    "\t\tself.course = None\n",
    "\t\tself.title = None\n",
    "\t\tself.au = None\n",
    "\t\tself.course_type =  None\n",
    "\t\tself.status = None\n",
    "\t\tself.su_grade = None\n",
    "\t\tself.index_number = None\n",
    "\t\tself.class_type = None\n",
    "\t\tself.day = None\n",
    "\t\tself.time = None\n",
    "\t\tself.venue = None\n",
    "\t\tself.remark = None\n",
    "\n",
    "\tdef __str__(self):\n",
    "\t\treturn 'Course: {} \\nTitle: {} \\nAU: {} \\nCourse Type: {} \\nStatus: {} \\nS/U: {} \\nClass Type: {} \\nDay: {} \\nTime: {} \\nVenue: {} \\nRemark: {} \\n'.format(\\\n",
    "\t\t\tself.course, self.title, self.au, self.course_type, self.status, self.su_grade, self.class_type, self.day, self.time, self.venue, self.remark)"
   ]
  },
  {
   "cell_type": "code",
   "execution_count": 115,
   "id": "0130a914-03f9-4006-92c6-e786ad8f6538",
   "metadata": {},
   "outputs": [],
   "source": [
    "import pandas as pd\n",
    "from icalendar import Calendar, Event\n",
    "\n",
    "df = pd.read_html(open(\"try.html\"),header=0)\n",
    "df = df[0]\n",
    "\n",
    "# remove any exempted module\n",
    "df = df[df.Status != 'EXEMPTED']\n",
    "df.reset_index(inplace=True)"
   ]
  },
  {
   "cell_type": "code",
   "execution_count": 116,
   "id": "7fa391a6-7669-49a9-84f7-83c6f2da6c1c",
   "metadata": {},
   "outputs": [
    {
     "data": {
      "text/html": [
       "<div>\n",
       "<style scoped>\n",
       "    .dataframe tbody tr th:only-of-type {\n",
       "        vertical-align: middle;\n",
       "    }\n",
       "\n",
       "    .dataframe tbody tr th {\n",
       "        vertical-align: top;\n",
       "    }\n",
       "\n",
       "    .dataframe thead th {\n",
       "        text-align: right;\n",
       "    }\n",
       "</style>\n",
       "<table border=\"1\" class=\"dataframe\">\n",
       "  <thead>\n",
       "    <tr style=\"text-align: right;\">\n",
       "      <th></th>\n",
       "      <th>index</th>\n",
       "      <th>Course</th>\n",
       "      <th>Title</th>\n",
       "      <th>AU</th>\n",
       "      <th>CourseType</th>\n",
       "      <th>CourseGroup</th>\n",
       "      <th>S/U Grade option</th>\n",
       "      <th>IndexNumber</th>\n",
       "      <th>Status</th>\n",
       "      <th>Choice</th>\n",
       "      <th>ClassType</th>\n",
       "      <th>Group</th>\n",
       "      <th>Day</th>\n",
       "      <th>Time</th>\n",
       "      <th>Venue</th>\n",
       "      <th>Remark</th>\n",
       "    </tr>\n",
       "  </thead>\n",
       "  <tbody>\n",
       "    <tr>\n",
       "      <th>0</th>\n",
       "      <td>0</td>\n",
       "      <td>CC0003</td>\n",
       "      <td>ETHICS &amp; CIVICS IN A MULTICULTURAL WORLD</td>\n",
       "      <td>2.0</td>\n",
       "      <td>CORE</td>\n",
       "      <td>INTERDISCIPLINARY COLLABORATIVE CORE</td>\n",
       "      <td>NaN</td>\n",
       "      <td>10571.0</td>\n",
       "      <td>REGISTERED</td>\n",
       "      <td>NaN</td>\n",
       "      <td>TUT</td>\n",
       "      <td>T69</td>\n",
       "      <td>FRI</td>\n",
       "      <td>1230-1420</td>\n",
       "      <td>LHN-TR+36</td>\n",
       "      <td>Teaching Wk2,4,6,8,10,12</td>\n",
       "    </tr>\n",
       "    <tr>\n",
       "      <th>1</th>\n",
       "      <td>1</td>\n",
       "      <td>CC0005</td>\n",
       "      <td>HEALTHY LIVING &amp; WELLBEING</td>\n",
       "      <td>3.0</td>\n",
       "      <td>CORE</td>\n",
       "      <td>INTERDISCIPLINARY COLLABORATIVE CORE</td>\n",
       "      <td>NaN</td>\n",
       "      <td>10601.0</td>\n",
       "      <td>REGISTERED</td>\n",
       "      <td>NaN</td>\n",
       "      <td>TUT</td>\n",
       "      <td>T17</td>\n",
       "      <td>TUE</td>\n",
       "      <td>1030-1220</td>\n",
       "      <td>LHN-TR+10</td>\n",
       "      <td>Teaching Wk3-13</td>\n",
       "    </tr>\n",
       "    <tr>\n",
       "      <th>2</th>\n",
       "      <td>2</td>\n",
       "      <td>NaN</td>\n",
       "      <td>NaN</td>\n",
       "      <td>NaN</td>\n",
       "      <td>NaN</td>\n",
       "      <td>NaN</td>\n",
       "      <td>NaN</td>\n",
       "      <td>NaN</td>\n",
       "      <td>NaN</td>\n",
       "      <td>NaN</td>\n",
       "      <td>TUT</td>\n",
       "      <td>T17</td>\n",
       "      <td>TUE</td>\n",
       "      <td>1030-1220</td>\n",
       "      <td>ONLINE</td>\n",
       "      <td>Teaching Wk1,2</td>\n",
       "    </tr>\n",
       "    <tr>\n",
       "      <th>3</th>\n",
       "      <td>3</td>\n",
       "      <td>NaN</td>\n",
       "      <td>NaN</td>\n",
       "      <td>NaN</td>\n",
       "      <td>NaN</td>\n",
       "      <td>NaN</td>\n",
       "      <td>NaN</td>\n",
       "      <td>NaN</td>\n",
       "      <td>NaN</td>\n",
       "      <td>NaN</td>\n",
       "      <td>LEC/STUDIO</td>\n",
       "      <td>LE2</td>\n",
       "      <td>FRI</td>\n",
       "      <td>1630-1720</td>\n",
       "      <td>ONLINE</td>\n",
       "      <td>Teaching Wk1-13</td>\n",
       "    </tr>\n",
       "    <tr>\n",
       "      <th>4</th>\n",
       "      <td>5</td>\n",
       "      <td>MH1812</td>\n",
       "      <td>DISCRETE MATHEMATICS</td>\n",
       "      <td>3.0</td>\n",
       "      <td>CORE</td>\n",
       "      <td>NaN</td>\n",
       "      <td>NaN</td>\n",
       "      <td>10137.0</td>\n",
       "      <td>REGISTERED</td>\n",
       "      <td>NaN</td>\n",
       "      <td>TUT</td>\n",
       "      <td>SC13</td>\n",
       "      <td>WED</td>\n",
       "      <td>1330-1420</td>\n",
       "      <td>TR+37</td>\n",
       "      <td>Teaching Wk2-13</td>\n",
       "    </tr>\n",
       "  </tbody>\n",
       "</table>\n",
       "</div>"
      ],
      "text/plain": [
       "   index  Course                                     Title   AU CourseType  \\\n",
       "0      0  CC0003  ETHICS & CIVICS IN A MULTICULTURAL WORLD  2.0       CORE   \n",
       "1      1  CC0005                HEALTHY LIVING & WELLBEING  3.0       CORE   \n",
       "2      2     NaN                                       NaN  NaN        NaN   \n",
       "3      3     NaN                                       NaN  NaN        NaN   \n",
       "4      5  MH1812                      DISCRETE MATHEMATICS  3.0       CORE   \n",
       "\n",
       "                            CourseGroup  S/U Grade option  IndexNumber  \\\n",
       "0  INTERDISCIPLINARY COLLABORATIVE CORE               NaN      10571.0   \n",
       "1  INTERDISCIPLINARY COLLABORATIVE CORE               NaN      10601.0   \n",
       "2                                   NaN               NaN          NaN   \n",
       "3                                   NaN               NaN          NaN   \n",
       "4                                   NaN               NaN      10137.0   \n",
       "\n",
       "       Status  Choice   ClassType Group  Day       Time      Venue  \\\n",
       "0  REGISTERED     NaN         TUT   T69  FRI  1230-1420  LHN-TR+36   \n",
       "1  REGISTERED     NaN         TUT   T17  TUE  1030-1220  LHN-TR+10   \n",
       "2         NaN     NaN         TUT   T17  TUE  1030-1220     ONLINE   \n",
       "3         NaN     NaN  LEC/STUDIO   LE2  FRI  1630-1720     ONLINE   \n",
       "4  REGISTERED     NaN         TUT  SC13  WED  1330-1420      TR+37   \n",
       "\n",
       "                     Remark  \n",
       "0  Teaching Wk2,4,6,8,10,12  \n",
       "1           Teaching Wk3-13  \n",
       "2            Teaching Wk1,2  \n",
       "3           Teaching Wk1-13  \n",
       "4           Teaching Wk2-13  "
      ]
     },
     "execution_count": 116,
     "metadata": {},
     "output_type": "execute_result"
    }
   ],
   "source": [
    "df.head()"
   ]
  },
  {
   "cell_type": "code",
   "execution_count": 5,
   "id": "395530fd-a3b0-489f-9864-4585568e836d",
   "metadata": {},
   "outputs": [
    {
     "data": {
      "text/plain": [
       "['1230', '1420']"
      ]
     },
     "execution_count": 5,
     "metadata": {},
     "output_type": "execute_result"
    }
   ],
   "source": [
    "df.loc[0]['Time'].split('-')"
   ]
  },
  {
   "cell_type": "code",
   "execution_count": 10,
   "id": "4db2a1ba-a6c9-4ef9-bc73-a941c1f8ffdc",
   "metadata": {},
   "outputs": [
    {
     "data": {
      "text/plain": [
       "datetime.timedelta(seconds=6600)"
      ]
     },
     "execution_count": 10,
     "metadata": {},
     "output_type": "execute_result"
    }
   ],
   "source": []
  },
  {
   "cell_type": "code",
   "execution_count": 60,
   "id": "25fb4c84-562e-4458-8cc5-d029e7afb6d3",
   "metadata": {},
   "outputs": [],
   "source": [
    "def getDuration(timeString):\n",
    "    timestamp1 = datetime.datetime.strptime(timeString.split('-')[0],\"%H%M\")\n",
    "    timestamp2 = datetime.datetime.strptime(timeString.split('-')[1],\"%H%M\")\n",
    "    return timestamp2 - timestamp1\n",
    "\n",
    "def getStartDate(firstDayOfSchool = datetime.date(2021,8,9)): # get based on fixed value first\n",
    "    return firstDayOfSchool - datetime.timedelta(days=firstDayOfSchool.weekday())\n",
    "\n",
    "def getDay(dayString):\n",
    "    dayDict = {'MON' : 0, 'TUE' : 1, 'WED' : 2, 'THU' : 3, 'FRI' : 4, 'SAT' : 5}\n",
    "    return dayDict[dayString]\n",
    "\n",
    "def getModuleStartDate(remark, day, startDate):\n",
    "    # find starting week\n",
    "    startWeek = int(remark[remark.find('Wk')+2])\n",
    "    return startDate + datetime.timedelta(days = startWeek *7) + datetime.timedelta(days = day)\n",
    "\n",
    "def getModuleStartTime()\n",
    "\n",
    "def getModuleDateAndTime()\n",
    "    datetime.datetime.combine(datetime.date(2011, 1, 1), \n",
    "                          datetime.time(10, 23))\n",
    "\n",
    "def getRecurrences(remark):\n",
    "    remark = remark[remark.find('Wk')+2:]\n",
    "    # find if there are any commas\n",
    "    if ',' in remark: # bi-weekly schedule\n",
    "        return len(remark.split(','))\n",
    "    else:\n",
    "        a,b = remark.split('-')\n",
    "        return b-a+1\n",
    "def isBiWeekly(remark):\n",
    "    remark = remark[remark.find('Wk')+2:]\n",
    "    # find if there are any commas\n",
    "    if ',' in remark: # bi-weekly schedule\n",
    "        return True"
   ]
  },
  {
   "cell_type": "code",
   "execution_count": 45,
   "id": "a1c97001-f275-4633-bdea-b0f3f988ef53",
   "metadata": {},
   "outputs": [
    {
     "data": {
      "text/plain": [
       "['1', '4']"
      ]
     },
     "execution_count": 45,
     "metadata": {},
     "output_type": "execute_result"
    }
   ],
   "source": [
    "s = \"Teaching Wk1-4\"\n",
    "s[s.find('Wk')+2:].split('-')"
   ]
  },
  {
   "cell_type": "code",
   "execution_count": 120,
   "id": "479760fb-a03d-43b4-b39e-99e9d9564407",
   "metadata": {},
   "outputs": [
    {
     "name": "stdout",
     "output_type": "stream",
     "text": [
      "CC0003\n",
      "2021-08-27\n",
      "CC0005\n",
      "2021-08-31\n",
      "nan\n",
      "2021-08-17\n",
      "nan\n",
      "2021-08-20\n",
      "MH1812\n",
      "2021-08-25\n",
      "nan\n",
      "2021-08-18\n",
      "SC1003\n",
      "2021-08-19\n",
      "nan\n",
      "2021-08-19\n",
      "nan\n",
      "2021-08-16\n",
      "SC1005\n",
      "2021-09-02\n",
      "nan\n",
      "2021-08-26\n",
      "nan\n",
      "2021-08-24\n",
      "nan\n",
      "2021-08-17\n",
      "nan\n",
      "2021-08-19\n",
      "SC1013\n",
      "2021-08-17\n",
      "nan\n",
      "2021-09-14\n",
      "nan\n",
      "2021-09-16\n",
      "nan\n",
      "2021-08-16\n",
      "AB1301\n",
      "2021-08-16\n",
      "BU8101\n",
      "2021-10-05\n",
      "nan\n",
      "2021-08-17\n",
      "nan\n",
      "2021-10-05\n",
      "nan\n",
      "2021-10-05\n"
     ]
    }
   ],
   "source": [
    "import datetime\n",
    "import pytz\n",
    "import numpy as np\n",
    "\n",
    "cal = Calendar()\n",
    "\n",
    "currentCourse = None\n",
    "for item in range(len(df)):\n",
    "    # try before recess week\n",
    "    print(df.loc[item]['Course'])\n",
    "    if type(df.loc[item]['Course']) == str:\n",
    "        currentCourse = df.loc[item]['Course']\n",
    "        currentTitle = df.loc[item]['Title']\n",
    "    \n",
    "    event = Event()\n",
    "    event.add('summary', currentCourse + df.loc[item]['ClassType'] + currentTitle)\n",
    "    event.add('description', df.loc[item]['IndexNumber'] )\n",
    "    event.add('dtstart', getModuleStartDate(df.loc[item]['Remark'], getDay(df.loc[item]['Day']), getStartDate()))\n",
    "    print(getModuleStartDate(df.loc[item]['Remark'], getDay(df.loc[item]['Day']), getStartDate()))\n",
    "    \n",
    "    event.add('duration', getDuration(df.loc[item]['Time']))\n",
    "    event.add('dtstamp', datetime.datetime.now())\n",
    "    event.add('location', df.loc[item]['Venue'])\n",
    "    event.add('rrule', {'freq' : 'weekly', 'count' : 8})\n",
    "    if isBiWeekly(df.loc[item]['Remark']):\n",
    "        event['rrule']['interval'] = 2\n",
    "    cal.add_component(event)\n",
    "\n",
    "\n",
    "f = open('{}.ics'.format('Test'), 'wb')\n",
    "f.write(cal.to_ical())\n",
    "f.close()"
   ]
  },
  {
   "cell_type": "code",
   "execution_count": 84,
   "id": "f4eed3f6-94fa-4c64-96a8-bff85ba4f9c8",
   "metadata": {},
   "outputs": [
    {
     "data": {
      "text/plain": [
       "str"
      ]
     },
     "execution_count": 84,
     "metadata": {},
     "output_type": "execute_result"
    }
   ],
   "source": [
    "type(df.loc[5][0])"
   ]
  },
  {
   "cell_type": "code",
   "execution_count": 107,
   "id": "4868c616-0abc-4319-aecc-01642b17a4ed",
   "metadata": {},
   "outputs": [
    {
     "data": {
      "text/plain": [
       "'MH1812'"
      ]
     },
     "execution_count": 107,
     "metadata": {},
     "output_type": "execute_result"
    }
   ],
   "source": [
    "df.loc[5]['Course']"
   ]
  },
  {
   "cell_type": "code",
   "execution_count": null,
   "id": "559b189c-3fcd-447b-b3f1-5c470007992a",
   "metadata": {},
   "outputs": [],
   "source": []
  }
 ],
 "metadata": {
  "kernelspec": {
   "display_name": "Python 3",
   "language": "python",
   "name": "python3"
  },
  "language_info": {
   "codemirror_mode": {
    "name": "ipython",
    "version": 3
   },
   "file_extension": ".py",
   "mimetype": "text/x-python",
   "name": "python",
   "nbconvert_exporter": "python",
   "pygments_lexer": "ipython3",
   "version": "3.9.5"
  }
 },
 "nbformat": 4,
 "nbformat_minor": 5
}
